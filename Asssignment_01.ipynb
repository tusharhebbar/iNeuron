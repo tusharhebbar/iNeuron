{
 "cells": [
  {
   "cell_type": "raw",
   "id": "70b48c24",
   "metadata": {},
   "source": [
    " 1)Write a Python program to print \"Hello Python\"?\n"
   ]
  },
  {
   "cell_type": "code",
   "execution_count": 1,
   "id": "f3d194ce",
   "metadata": {},
   "outputs": [
    {
     "name": "stdout",
     "output_type": "stream",
     "text": [
      "Hello Python\n"
     ]
    }
   ],
   "source": [
    "print(\"Hello Python\")"
   ]
  },
  {
   "cell_type": "raw",
   "id": "8bfe65ce",
   "metadata": {},
   "source": [
    "2)Write a Python program to do arithmetical operations addition and division.?"
   ]
  },
  {
   "cell_type": "code",
   "execution_count": 3,
   "id": "5f755f41",
   "metadata": {},
   "outputs": [
    {
     "name": "stdout",
     "output_type": "stream",
     "text": [
      "5\n",
      "2\n",
      "7\n",
      "2.5\n"
     ]
    }
   ],
   "source": [
    "a = int(input())\n",
    "b = int(input())\n",
    "print(a+b)\n",
    "print(a/b)"
   ]
  },
  {
   "cell_type": "raw",
   "id": "a89f91d4",
   "metadata": {},
   "source": [
    "3)Write a Python program to find the area of a triangle?"
   ]
  },
  {
   "cell_type": "code",
   "execution_count": 4,
   "id": "d8b813b1",
   "metadata": {},
   "outputs": [
    {
     "name": "stdout",
     "output_type": "stream",
     "text": [
      "Enter the base of the triangle: 5\n",
      "Enter the height of the triangle: 2\n",
      "Area of the triangle is {5.0}\n"
     ]
    }
   ],
   "source": [
    "base = float(input(\"Enter the base of the triangle: \"))\n",
    "height = float(input(\"Enter the height of the triangle: \"))\n",
    "area = (base * height) / 2\n",
    "print(f\"Area of the triangle is\",{area})"
   ]
  },
  {
   "cell_type": "raw",
   "id": "75d74b10",
   "metadata": {},
   "source": [
    "4)Write a Python program to swap two variables"
   ]
  },
  {
   "cell_type": "code",
   "execution_count": 5,
   "id": "1a4522ed",
   "metadata": {},
   "outputs": [
    {
     "name": "stdout",
     "output_type": "stream",
     "text": [
      "a: {10}\n",
      "b: {5}\n"
     ]
    }
   ],
   "source": [
    "a = 5\n",
    "b = 10\n",
    "\n",
    "# using a temporary variable\n",
    "temp = a\n",
    "a = b\n",
    "b = temp\n",
    "\n",
    "print(f\"a:\",{a})\n",
    "print(f\"b:\",{b})"
   ]
  },
  {
   "cell_type": "raw",
   "id": "cb7be9c1",
   "metadata": {},
   "source": [
    "5)Write a Python program to generate a random number?"
   ]
  },
  {
   "cell_type": "code",
   "execution_count": 6,
   "id": "8cdf11ba",
   "metadata": {},
   "outputs": [
    {
     "name": "stdout",
     "output_type": "stream",
     "text": [
      "43.16811404631903\n"
     ]
    }
   ],
   "source": [
    "import random\n",
    "\n",
    "# generate a random number between 1 and 100\n",
    "random_number = random.uniform(1, 100)\n",
    "\n",
    "print(random_number)"
   ]
  },
  {
   "cell_type": "code",
   "execution_count": null,
   "id": "231cec2f",
   "metadata": {},
   "outputs": [],
   "source": []
  }
 ],
 "metadata": {
  "kernelspec": {
   "display_name": "Python 3 (ipykernel)",
   "language": "python",
   "name": "python3"
  },
  "language_info": {
   "codemirror_mode": {
    "name": "ipython",
    "version": 3
   },
   "file_extension": ".py",
   "mimetype": "text/x-python",
   "name": "python",
   "nbconvert_exporter": "python",
   "pygments_lexer": "ipython3",
   "version": "3.9.13"
  }
 },
 "nbformat": 4,
 "nbformat_minor": 5
}
